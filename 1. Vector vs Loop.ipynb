{
 "cells": [
  {
   "cell_type": "code",
   "execution_count": 4,
   "metadata": {},
   "outputs": [
    {
     "name": "stdout",
     "output_type": "stream",
     "text": [
      "[1 2 3 4]\n"
     ]
    }
   ],
   "source": [
    "import numpy as np\n",
    "\n",
    "a = np.array([1,2,3,4])\n",
    "print(a)"
   ]
  },
  {
   "cell_type": "code",
   "execution_count": 10,
   "metadata": {},
   "outputs": [
    {
     "name": "stdout",
     "output_type": "stream",
     "text": [
      "c = 249620.16857004096\n",
      "Vectorized version : 6.518840789794922 ms\n",
      "\n",
      "\n",
      "c = 249620.1685700315\n",
      "Explicit for loop version: 1282.4196815490723 ms\n"
     ]
    }
   ],
   "source": [
    "import time as tm\n",
    "\n",
    "# checking performance difference between vector processing and explicit for-loop\n",
    "## vectorised version\n",
    "a = np.random.rand(1000000)\n",
    "b = np.random.rand(1000000)\n",
    "\n",
    "tic  = tm.time()\n",
    "c = np.dot(a,b)\n",
    "toc = tm.time()\n",
    "\n",
    "print(\"c = \" + str(c))\n",
    "print(\"Vectorized version : \" + str(1000 * (toc - tic)) + \" ms\")\n",
    "print(\"\\n\")\n",
    "## explicit for loop\n",
    "\n",
    "c = 0\n",
    "tic = tm.time()\n",
    "for i in range(1000000):\n",
    "    c += a[i] * b[i]\n",
    "toc = tm.time()\n",
    "\n",
    "print(\"c = \" + str(c))\n",
    "print(\"Explicit for loop version: \" + str(1000 * (toc - tic)) + \" ms\")"
   ]
  },
  {
   "cell_type": "markdown",
   "metadata": {},
   "source": [
    "## Vectorised version is way much faster !!"
   ]
  }
 ],
 "metadata": {
  "kernelspec": {
   "display_name": "Python 3",
   "language": "python",
   "name": "python3"
  },
  "language_info": {
   "codemirror_mode": {
    "name": "ipython",
    "version": 3
   },
   "file_extension": ".py",
   "mimetype": "text/x-python",
   "name": "python",
   "nbconvert_exporter": "python",
   "pygments_lexer": "ipython3",
   "version": "3.6.4"
  }
 },
 "nbformat": 4,
 "nbformat_minor": 2
}
